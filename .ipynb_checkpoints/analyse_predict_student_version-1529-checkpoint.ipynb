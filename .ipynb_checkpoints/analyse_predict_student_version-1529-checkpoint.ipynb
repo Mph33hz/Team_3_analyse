{
 "cells": [
  {
   "cell_type": "markdown",
   "metadata": {
    "colab_type": "text",
    "id": "k3iztl7u3gwD"
   },
   "source": [
    "# Analyse - Predict\n",
    "\n",
    "Functions are important in reducing the replication of code as well as giving the user the functionality of getting an ouput on varying inputs. The functions you will write all use Eskom data/variables.\n",
    "\n",
    "## Instructions to Students\n",
    "- **Do not add or remove cells in this notebook. Do not edit or remove the `### START FUNCTION` or `### END FUNCTION` comments. Do not add any code outside of the functions you are required to edit. Doing any of this will lead to a mark of 0%!**\n",
    "- Answer the questions according to the specifications provided.\n",
    "- Use the given cell in each question to to see if your function matches the expected outputs.\n",
    "- Do not hard-code answers to the questions.\n",
    "- The use of stackoverflow, google, and other online tools are permitted. However, copying fellow student's code is not permissible and is considered a breach of the Honour code. Doing this will result in a mark of 0%.\n",
    "- Good luck, and may the force be with you!"
   ]
  },
  {
   "cell_type": "markdown",
   "metadata": {},
   "source": [
    "## Imports"
   ]
  },
  {
   "cell_type": "code",
   "execution_count": 9,
   "metadata": {
    "colab": {},
    "colab_type": "code",
    "id": "KDEvrdUcva3a"
   },
   "outputs": [],
   "source": [
    "import pandas as pd\n",
    "import numpy as np"
   ]
  },
  {
   "cell_type": "markdown",
   "metadata": {},
   "source": [
    "## Data Loading and Preprocessing"
   ]
  },
  {
   "cell_type": "markdown",
   "metadata": {},
   "source": [
    "### Electricification by province (EBP) data"
   ]
  },
  {
   "cell_type": "code",
   "execution_count": 10,
   "metadata": {},
   "outputs": [
    {
     "data": {
      "text/html": [
       "<div>\n",
       "<style scoped>\n",
       "    .dataframe tbody tr th:only-of-type {\n",
       "        vertical-align: middle;\n",
       "    }\n",
       "\n",
       "    .dataframe tbody tr th {\n",
       "        vertical-align: top;\n",
       "    }\n",
       "\n",
       "    .dataframe thead th {\n",
       "        text-align: right;\n",
       "    }\n",
       "</style>\n",
       "<table border=\"1\" class=\"dataframe\">\n",
       "  <thead>\n",
       "    <tr style=\"text-align: right;\">\n",
       "      <th></th>\n",
       "      <th>Financial Year (1 April - 30 March)</th>\n",
       "      <th>Limpopo</th>\n",
       "      <th>Mpumalanga</th>\n",
       "      <th>North west</th>\n",
       "      <th>Free State</th>\n",
       "      <th>Kwazulu Natal</th>\n",
       "      <th>Eastern Cape</th>\n",
       "      <th>Western Cape</th>\n",
       "      <th>Northern Cape</th>\n",
       "      <th>Gauteng</th>\n",
       "    </tr>\n",
       "  </thead>\n",
       "  <tbody>\n",
       "    <tr>\n",
       "      <th>0</th>\n",
       "      <td>2000/1</td>\n",
       "      <td>51860</td>\n",
       "      <td>28365</td>\n",
       "      <td>48429</td>\n",
       "      <td>21293</td>\n",
       "      <td>63413</td>\n",
       "      <td>49008</td>\n",
       "      <td>48429</td>\n",
       "      <td>6168</td>\n",
       "      <td>39660</td>\n",
       "    </tr>\n",
       "    <tr>\n",
       "      <th>1</th>\n",
       "      <td>2001/2</td>\n",
       "      <td>68121</td>\n",
       "      <td>26303</td>\n",
       "      <td>38685</td>\n",
       "      <td>20928</td>\n",
       "      <td>64123</td>\n",
       "      <td>45773</td>\n",
       "      <td>38685</td>\n",
       "      <td>10359</td>\n",
       "      <td>36024</td>\n",
       "    </tr>\n",
       "    <tr>\n",
       "      <th>2</th>\n",
       "      <td>2002/3</td>\n",
       "      <td>49881</td>\n",
       "      <td>11976</td>\n",
       "      <td>28532</td>\n",
       "      <td>10316</td>\n",
       "      <td>63078</td>\n",
       "      <td>55748</td>\n",
       "      <td>28532</td>\n",
       "      <td>6869</td>\n",
       "      <td>32127</td>\n",
       "    </tr>\n",
       "    <tr>\n",
       "      <th>3</th>\n",
       "      <td>2003/4</td>\n",
       "      <td>42034</td>\n",
       "      <td>33515</td>\n",
       "      <td>34027</td>\n",
       "      <td>16135</td>\n",
       "      <td>60282</td>\n",
       "      <td>47414</td>\n",
       "      <td>34027</td>\n",
       "      <td>10976</td>\n",
       "      <td>39488</td>\n",
       "    </tr>\n",
       "    <tr>\n",
       "      <th>4</th>\n",
       "      <td>2004/5</td>\n",
       "      <td>54646</td>\n",
       "      <td>16218</td>\n",
       "      <td>21450</td>\n",
       "      <td>5668</td>\n",
       "      <td>37811</td>\n",
       "      <td>42041</td>\n",
       "      <td>21450</td>\n",
       "      <td>6316</td>\n",
       "      <td>18422</td>\n",
       "    </tr>\n",
       "  </tbody>\n",
       "</table>\n",
       "</div>"
      ],
      "text/plain": [
       "  Financial Year (1 April - 30 March)  Limpopo  Mpumalanga  North west  \\\n",
       "0                              2000/1    51860       28365       48429   \n",
       "1                              2001/2    68121       26303       38685   \n",
       "2                              2002/3    49881       11976       28532   \n",
       "3                              2003/4    42034       33515       34027   \n",
       "4                              2004/5    54646       16218       21450   \n",
       "\n",
       "   Free State  Kwazulu Natal  Eastern Cape  Western Cape  Northern Cape  \\\n",
       "0       21293          63413         49008         48429           6168   \n",
       "1       20928          64123         45773         38685          10359   \n",
       "2       10316          63078         55748         28532           6869   \n",
       "3       16135          60282         47414         34027          10976   \n",
       "4        5668          37811         42041         21450           6316   \n",
       "\n",
       "   Gauteng  \n",
       "0    39660  \n",
       "1    36024  \n",
       "2    32127  \n",
       "3    39488  \n",
       "4    18422  "
      ]
     },
     "execution_count": 10,
     "metadata": {},
     "output_type": "execute_result"
    }
   ],
   "source": [
    "ebp_url = 'https://raw.githubusercontent.com/Explore-AI/Public-Data/master/Data/electrification_by_province.csv'\n",
    "ebp_df = pd.read_csv(ebp_url)\n",
    "\n",
    "for col, row in ebp_df.iloc[:,1:].iteritems():\n",
    "    ebp_df[col] = ebp_df[col].str.replace(',','').astype(int)\n",
    "\n",
    "ebp_df.head()"
   ]
  },
  {
   "cell_type": "markdown",
   "metadata": {},
   "source": [
    "### Twitter data"
   ]
  },
  {
   "cell_type": "code",
   "execution_count": 11,
   "metadata": {},
   "outputs": [
    {
     "data": {
      "text/html": [
       "<div>\n",
       "<style scoped>\n",
       "    .dataframe tbody tr th:only-of-type {\n",
       "        vertical-align: middle;\n",
       "    }\n",
       "\n",
       "    .dataframe tbody tr th {\n",
       "        vertical-align: top;\n",
       "    }\n",
       "\n",
       "    .dataframe thead th {\n",
       "        text-align: right;\n",
       "    }\n",
       "</style>\n",
       "<table border=\"1\" class=\"dataframe\">\n",
       "  <thead>\n",
       "    <tr style=\"text-align: right;\">\n",
       "      <th></th>\n",
       "      <th>Tweets</th>\n",
       "      <th>Date</th>\n",
       "    </tr>\n",
       "  </thead>\n",
       "  <tbody>\n",
       "    <tr>\n",
       "      <th>0</th>\n",
       "      <td>@BongaDlulane Please send an email to mediades...</td>\n",
       "      <td>2019-11-29 12:50:54</td>\n",
       "    </tr>\n",
       "    <tr>\n",
       "      <th>1</th>\n",
       "      <td>@saucy_mamiie Pls log a call on 0860037566</td>\n",
       "      <td>2019-11-29 12:46:53</td>\n",
       "    </tr>\n",
       "    <tr>\n",
       "      <th>2</th>\n",
       "      <td>@BongaDlulane Query escalated to media desk.</td>\n",
       "      <td>2019-11-29 12:46:10</td>\n",
       "    </tr>\n",
       "    <tr>\n",
       "      <th>3</th>\n",
       "      <td>Before leaving the office this afternoon, head...</td>\n",
       "      <td>2019-11-29 12:33:36</td>\n",
       "    </tr>\n",
       "    <tr>\n",
       "      <th>4</th>\n",
       "      <td>#ESKOMFREESTATE #MEDIASTATEMENT : ESKOM SUSPEN...</td>\n",
       "      <td>2019-11-29 12:17:43</td>\n",
       "    </tr>\n",
       "  </tbody>\n",
       "</table>\n",
       "</div>"
      ],
      "text/plain": [
       "                                              Tweets                 Date\n",
       "0  @BongaDlulane Please send an email to mediades...  2019-11-29 12:50:54\n",
       "1         @saucy_mamiie Pls log a call on 0860037566  2019-11-29 12:46:53\n",
       "2       @BongaDlulane Query escalated to media desk.  2019-11-29 12:46:10\n",
       "3  Before leaving the office this afternoon, head...  2019-11-29 12:33:36\n",
       "4  #ESKOMFREESTATE #MEDIASTATEMENT : ESKOM SUSPEN...  2019-11-29 12:17:43"
      ]
     },
     "execution_count": 11,
     "metadata": {},
     "output_type": "execute_result"
    }
   ],
   "source": [
    "twitter_url = 'https://raw.githubusercontent.com/Explore-AI/Public-Data/master/Data/twitter_nov_2019.csv'\n",
    "twitter_df = pd.read_csv(twitter_url)\n",
    "twitter_df.head()"
   ]
  },
  {
   "cell_type": "markdown",
   "metadata": {},
   "source": [
    "## Important Variables (Do not edit these!)"
   ]
  },
  {
   "cell_type": "code",
   "execution_count": 12,
   "metadata": {},
   "outputs": [],
   "source": [
    "# gauteng ebp data as a list\n",
    "gauteng = ebp_df['Gauteng'].astype(float).to_list()\n",
    "\n",
    "# dates for twitter tweets\n",
    "dates = twitter_df['Date'].to_list()\n",
    "\n",
    "# dictionary mapping official municipality twitter handles to the municipality name\n",
    "mun_dict = {\n",
    "    '@CityofCTAlerts' : 'Cape Town',\n",
    "    '@CityPowerJhb' : 'Johannesburg',\n",
    "    '@eThekwiniM' : 'eThekwini' ,\n",
    "    '@EMMInfo' : 'Ekurhuleni',\n",
    "    '@centlecutility' : 'Mangaung',\n",
    "    '@NMBmunicipality' : 'Nelson Mandela Bay',\n",
    "    '@CityTshwane' : 'Tshwane'\n",
    "}\n",
    "\n",
    "# dictionary of english stopwords\n",
    "stop_words_dict = {\n",
    "    'stopwords':[\n",
    "        'where', 'done', 'if', 'before', 'll', 'very', 'keep', 'something', 'nothing', 'thereupon', \n",
    "        'may', 'why', 'â€™s', 'therefore', 'you', 'with', 'towards', 'make', 'really', 'few', 'former', \n",
    "        'during', 'mine', 'do', 'would', 'of', 'off', 'six', 'yourself', 'becoming', 'through', \n",
    "        'seeming', 'hence', 'us', 'anywhere', 'regarding', 'whole', 'down', 'seem', 'whereas', 'to', \n",
    "        'their', 'various', 'thereafter', 'â€˜d', 'above', 'put', 'sometime', 'moreover', 'whoever', 'although', \n",
    "        'at', 'four', 'each', 'among', 'whatever', 'any', 'anyhow', 'herein', 'become', 'last', 'between', 'still', \n",
    "        'was', 'almost', 'twelve', 'used', 'who', 'go', 'not', 'enough', 'well', 'â€™ve', 'might', 'see', 'whose', \n",
    "        'everywhere', 'yourselves', 'across', 'myself', 'further', 'did', 'then', 'is', 'except', 'up', 'take', \n",
    "        'became', 'however', 'many', 'thence', 'onto', 'â€˜m', 'my', 'own', 'must', 'wherein', 'elsewhere', 'behind', \n",
    "        'becomes', 'alone', 'due', 'being', 'neither', 'a', 'over', 'beside', 'fifteen', 'meanwhile', 'upon', 'next', \n",
    "        'forty', 'what', 'less', 'and', 'please', 'toward', 'about', 'below', 'hereafter', 'whether', 'yet', 'nor', \n",
    "        'against', 'whereupon', 'top', 'first', 'three', 'show', 'per', 'five', 'two', 'ourselves', 'whenever', \n",
    "        'get', 'thereby', 'noone', 'had', 'now', 'everyone', 'everything', 'nowhere', 'ca', 'though', 'least', \n",
    "        'so', 'both', 'otherwise', 'whereby', 'unless', 'somewhere', 'give', 'formerly', 'â€™d', 'under', \n",
    "        'while', 'empty', 'doing', 'besides', 'thus', 'this', 'anyone', 'its', 'after', 'bottom', 'call', \n",
    "        'nâ€™t', 'name', 'even', 'eleven', 'by', 'from', 'when', 'or', 'anyway', 'how', 'the', 'all', \n",
    "        'much', 'another', 'since', 'hundred', 'serious', 'â€˜ve', 'ever', 'out', 'full', 'themselves', \n",
    "        'been', 'in', \"'d\", 'wherever', 'part', 'someone', 'therein', 'can', 'seemed', 'hereby', 'others', \n",
    "        \"'s\", \"'re\", 'most', 'one', \"n't\", 'into', 'some', 'will', 'these', 'twenty', 'here', 'as', 'nobody', \n",
    "        'also', 'along', 'than', 'anything', 'he', 'there', 'does', 'we', 'â€™ll', 'latterly', 'are', 'ten', \n",
    "        'hers', 'should', 'they', 'â€˜s', 'either', 'am', 'be', 'perhaps', 'â€™re', 'only', 'namely', 'sixty', \n",
    "        'made', \"'m\", 'always', 'those', 'have', 'again', 'her', 'once', 'ours', 'herself', 'else', 'has', 'nine', \n",
    "        'more', 'sometimes', 'your', 'yours', 'that', 'around', 'his', 'indeed', 'mostly', 'cannot', 'â€˜ll', 'too', \n",
    "        'seems', 'â€™m', 'himself', 'latter', 'whither', 'amount', 'other', 'nevertheless', 'whom', 'for', 'somehow', \n",
    "        'beforehand', 'just', 'an', 'beyond', 'amongst', 'none', \"'ve\", 'say', 'via', 'but', 'often', 're', 'our', \n",
    "        'because', 'rather', 'using', 'without', 'throughout', 'on', 'she', 'never', 'eight', 'no', 'hereupon', \n",
    "        'them', 'whereafter', 'quite', 'which', 'move', 'thru', 'until', 'afterwards', 'fifty', 'i', 'itself', 'nâ€˜t',\n",
    "        'him', 'could', 'front', 'within', 'â€˜re', 'back', 'such', 'already', 'several', 'side', 'whence', 'me', \n",
    "        'same', 'were', 'it', 'every', 'third', 'together'\n",
    "    ]\n",
    "}"
   ]
  },
  {
   "cell_type": "markdown",
   "metadata": {
    "colab_type": "text",
    "id": "uLLfADfm3qAN"
   },
   "source": [
    "## Function 1: Metric Dictionary\n",
    "\n",
    "Write a function that calculates the mean, median, variance, standard deviation, minimum and maximum of of list of items. You can assume the given list is contains only numerical entries, and you may use numpy functions to do this.\n",
    "\n",
    "**Function Specifications:**\n",
    "- Function should allow a list as input.\n",
    "- It should return a `dict` with keys `'mean'`, `'median'`, `'std'`, `'var'`, `'min'`, and `'max'`, corresponding to the mean, median, standard deviation, variance, minimum and maximum of the input list, respectively.\n",
    "- The standard deviation and variance values must be unbiased. **Hint:** use the `ddof` parameter in the corresponding numpy functions!\n",
    "- All values in the returned `dict` should be rounded to 2 decimal places."
   ]
  },
  {
   "cell_type": "code",
   "execution_count": 23,
   "metadata": {},
   "outputs": [],
   "source": [
    "### START FUNCTION\n",
    "import numpy as np\n",
    "\n",
    "def dictionary_of_metrics(items):\n",
    "    # your code here\n",
    "    metrics={}\n",
    "       \n",
    "            \n",
    "    # Mean\n",
    "            \n",
    "            \n",
    "    # median\n",
    "            \n",
    "            \n",
    "            \n",
    "            \n",
    "    # variance\n",
    "    \n",
    "    var = round(np.var(items,ddof=1),2)\n",
    "    var = {'var': var}\n",
    "    metrics.update(var)\n",
    "    \n",
    "    # std\n",
    "    \n",
    "            \n",
    "            \n",
    "            \n",
    "    # min\n",
    "    mini=round(min(items),2)      \n",
    "    min_d={'Min':mini}\n",
    "    metrics.update(min_d)\n",
    "    \n",
    "         \n",
    "    # max\n",
    "    maxi=round(max(items),2)\n",
    "    max_d={'Max':maxi}\n",
    "    metrics.update(max_d)\n",
    "    \n",
    "    \n",
    "    \n",
    "\n",
    "    return metrics\n",
    "    \n",
    "### END FUNCTION"
   ]
  },
  {
   "cell_type": "code",
   "execution_count": 24,
   "metadata": {},
   "outputs": [
    {
     "data": {
      "text/plain": [
       "{'var': 108160153.17, 'Min': 8842.0, 'Max': 39660.0}"
      ]
     },
     "execution_count": 24,
     "metadata": {},
     "output_type": "execute_result"
    }
   ],
   "source": [
    "dictionary_of_metrics(gauteng)\n"
   ]
  },
  {
   "cell_type": "markdown",
   "metadata": {
    "colab_type": "text",
    "id": "LWF1JOcu3wru"
   },
   "source": [
    "_**Expected Output**_:\n",
    "\n",
    "```python\n",
    "dictionary_of_metrics(gauteng) == {'mean': 26244.42,\n",
    "                                   'median': 24403.5,\n",
    "                                   'var': 108160153.17,\n",
    "                                   'std': 10400.01,\n",
    "                                   'min': 8842.0,\n",
    "                                   'max': 39660.0}\n",
    " ```"
   ]
  },
  {
   "cell_type": "markdown",
   "metadata": {
    "colab_type": "text",
    "id": "wRxJtgMV3yty"
   },
   "source": [
    "## Function 2: Five Number Summary\n",
    "\n",
    "Write a function which takes in a list of integers and returns a dictionary of the [five number summary.](https://www.statisticshowto.datasciencecentral.com/how-to-find-a-five-number-summary-in-statistics/).\n",
    "\n",
    "**Function Specifications:**\n",
    "- The function should take a list as input.\n",
    "- The function should return a `dict` with keys `'max'`, `'median'`, `'min'`, `'q1'`, and `'q3'` corresponding to the maximum, median, minimum, first quartile and third quartile, respectively. You may use numpy functions to aid in your calculations.\n",
    "- All numerical values should be rounded to two decimal places."
   ]
  },
  {
   "cell_type": "code",
   "execution_count": 7,
   "metadata": {},
   "outputs": [],
   "source": [
    "### START FUNCTION\n",
    "def five_num_summary(items):\n",
    "    # your code here\n",
    "    return\n",
    "\n",
    "### END FUNCTION"
   ]
  },
  {
   "cell_type": "code",
   "execution_count": 8,
   "metadata": {
    "colab": {
     "base_uri": "https://localhost:8080/",
     "height": 105
    },
    "colab_type": "code",
    "id": "ybM3OvvPDXdq",
    "outputId": "a8070806-9680-4e22-f159-dc6b41e9da4d"
   },
   "outputs": [],
   "source": [
    "five_num_summary(gauteng)"
   ]
  },
  {
   "cell_type": "markdown",
   "metadata": {
    "colab_type": "text",
    "id": "rXwuo3ac34RQ"
   },
   "source": [
    "_**Expected Output:**_\n",
    "\n",
    "```python\n",
    "five_num_summary(gauteng) == {\n",
    "    'max': 39660.0,\n",
    "    'median': 24403.5,\n",
    "    'min': 8842.0,\n",
    "    'q1': 18653.0,\n",
    "    'q3': 36372.0\n",
    "}\n",
    "\n",
    "```"
   ]
  },
  {
   "cell_type": "markdown",
   "metadata": {
    "colab_type": "text",
    "id": "YE__20-4339e"
   },
   "source": [
    "## Function 3: Date Parser\n",
    "\n",
    "The `dates` variable (created at the top of this notebook) is a list of dates represented as strings. The string contains the date in `'yyyy-mm-dd'` format, as well as the time in `hh:mm:ss` formamt. The first three entries in this variable are:\n",
    "```python\n",
    "dates[:3] == [\n",
    "    '2019-11-29 12:50:54',\n",
    "    '2019-11-29 12:46:53',\n",
    "    '2019-11-29 12:46:10'\n",
    "]\n",
    "```\n",
    "\n",
    "Write a function that takes as input a list of these datetime strings and returns only the date in `'yyyy-mm-dd'` format.\n",
    "\n",
    "**Function Specifications:**\n",
    "- The function should take a list of strings as input.\n",
    "- Each string in the input list is formatted as `'yyyy-mm-dd hh:mm:ss'`.\n",
    "- The function should return a list of strings where each element in the returned list contains only the date in the `'yyyy-mm-dd'` format."
   ]
  },
  {
   "cell_type": "code",
   "execution_count": 9,
   "metadata": {
    "colab": {},
    "colab_type": "code",
    "id": "Iv60qvsDPzmb"
   },
   "outputs": [],
   "source": [
    "### START FUNCTION\n",
    "def date_parser(dates):\n",
    "    # your code here\n",
    "    return\n",
    "\n",
    "### END FUNCTION"
   ]
  },
  {
   "cell_type": "code",
   "execution_count": 10,
   "metadata": {},
   "outputs": [],
   "source": [
    "date_parser(dates[:3])"
   ]
  },
  {
   "cell_type": "markdown",
   "metadata": {
    "colab_type": "text",
    "id": "NR2f64A24OOp"
   },
   "source": [
    "_**Expected Output:**_\n",
    "\n",
    "```python\n",
    "date_parser(dates[:3]) == ['2019-11-29', '2019-11-29', '2019-11-29']\n",
    "date_parser(dates[-3:]) == ['2019-11-20', '2019-11-20', '2019-11-20']\n",
    "```"
   ]
  },
  {
   "cell_type": "markdown",
   "metadata": {
    "colab_type": "text",
    "id": "jmhEu6VU4N8k"
   },
   "source": [
    "## Function 4: Municipality & Hashtag Detector\n",
    "\n",
    "Write a function which takes in a pandas dataframe and returns a modified dataframe that includes two new columns that contain information about the municipality and hashtag of the tweet.\n",
    "\n",
    "**Function Specifications:**\n",
    "* Function should take a pandas `dataframe` as input.\n",
    "* Extract the municipality from a tweet using the `mun_dict` dictonary given below, and insert the result into a new column named `'municipality'` in the same dataframe.\n",
    "* Use the entry `np.nan` when a municipality is not found.\n",
    "* Extract a list of hashtags from a tweet into a new column named `'hashtags'` in the same dataframe.\n",
    "* Use the entry `np.nan` when no hashtags are found.\n",
    "\n",
    "**Hint:** you will need to `mun_dict` variable defined at the top of this notebook.\n",
    "\n",
    "```"
   ]
  },
  {
   "cell_type": "code",
   "execution_count": 11,
   "metadata": {
    "colab": {},
    "colab_type": "code",
    "id": "tEwUCB2LmbLS"
   },
   "outputs": [],
   "source": [
    "### START FUNCTION\n",
    "def extract_municipality_hashtags(df):\n",
    "    # your code here\n",
    "    return\n",
    "\n",
    "### END FUNCTION"
   ]
  },
  {
   "cell_type": "code",
   "execution_count": 12,
   "metadata": {},
   "outputs": [],
   "source": [
    "extract_municipality_hashtags(twitter_df.copy())"
   ]
  },
  {
   "cell_type": "markdown",
   "metadata": {
    "colab_type": "text",
    "id": "RO39F02A4qEp"
   },
   "source": [
    "_**Expected Outputs:**_ \n",
    "\n",
    "```python\n",
    "\n",
    "extract_municipality_hashtags(twitter_df.copy())\n",
    "\n",
    "```\n",
    "> <table class=\"dataframe\" border=\"1\">\n",
    "  <thead>\n",
    "    <tr style=\"text-align: right;\">\n",
    "      <th></th>\n",
    "      <th>Tweets</th>\n",
    "      <th>Date</th>\n",
    "      <th>municipality</th>\n",
    "      <th>hashtags</th>\n",
    "    </tr>\n",
    "  </thead>\n",
    "  <tbody>\n",
    "    <tr>\n",
    "      <th>0</th>\n",
    "      <td>@BongaDlulane Please send an email to mediades...</td>\n",
    "      <td>2019-11-29 12:50:54</td>\n",
    "      <td>NaN</td>\n",
    "      <td>NaN</td>\n",
    "    </tr>\n",
    "    <tr>\n",
    "      <th>1</th>\n",
    "      <td>@saucy_mamiie Pls log a call on 0860037566</td>\n",
    "      <td>2019-11-29 12:46:53</td>\n",
    "      <td>NaN</td>\n",
    "      <td>NaN</td>\n",
    "    </tr>\n",
    "    <tr>\n",
    "      <th>2</th>\n",
    "      <td>@BongaDlulane Query escalated to media desk.</td>\n",
    "      <td>2019-11-29 12:46:10</td>\n",
    "      <td>NaN</td>\n",
    "      <td>NaN</td>\n",
    "    </tr>\n",
    "    <tr>\n",
    "      <th>3</th>\n",
    "      <td>Before leaving the office this afternoon, head...</td>\n",
    "      <td>2019-11-29 12:33:36</td>\n",
    "      <td>NaN</td>\n",
    "      <td>NaN</td>\n",
    "    </tr>\n",
    "    <tr>\n",
    "      <th>4</th>\n",
    "      <td>#ESKOMFREESTATE #MEDIASTATEMENT : ESKOM SUSPEN...</td>\n",
    "      <td>2019-11-29 12:17:43</td>\n",
    "      <td>NaN</td>\n",
    "      <td>[#eskomfreestate, #mediastatement]</td>\n",
    "    </tr>\n",
    "    <tr>\n",
    "      <th>...</th>\n",
    "      <td>...</td>\n",
    "      <td>...</td>\n",
    "      <td>...</td>\n",
    "      <td>...</td>\n",
    "    </tr>\n",
    "    <tr>\n",
    "      <th>195</th>\n",
    "      <td>Eskom's Visitors Centresâ€™ facilities include i...</td>\n",
    "      <td>2019-11-20 10:29:07</td>\n",
    "      <td>NaN</td>\n",
    "      <td>NaN</td>\n",
    "    </tr>\n",
    "    <tr>\n",
    "      <th>196</th>\n",
    "      <td>#Eskom connected 400 houses and in the process...</td>\n",
    "      <td>2019-11-20 10:25:20</td>\n",
    "      <td>NaN</td>\n",
    "      <td>[#eskom, #eskom, #poweringyourworld]</td>\n",
    "    </tr>\n",
    "    <tr>\n",
    "      <th>197</th>\n",
    "      <td>@ArthurGodbeer Is the power restored as yet?</td>\n",
    "      <td>2019-11-20 10:07:59</td>\n",
    "      <td>NaN</td>\n",
    "      <td>NaN</td>\n",
    "    </tr>\n",
    "    <tr>\n",
    "      <th>198</th>\n",
    "      <td>@MuthambiPaulina @SABCNewsOnline @IOL @eNCA @e...</td>\n",
    "      <td>2019-11-20 10:07:41</td>\n",
    "      <td>NaN</td>\n",
    "      <td>NaN</td>\n",
    "    </tr>\n",
    "    <tr>\n",
    "      <th>199</th>\n",
    "      <td>RT @GP_DHS: The @GautengProvince made a commit...</td>\n",
    "      <td>2019-11-20 10:00:09</td>\n",
    "      <td>NaN</td>\n",
    "      <td>NaN</td>\n",
    "    </tr>\n",
    "  </tbody>\n",
    "</table>"
   ]
  },
  {
   "cell_type": "markdown",
   "metadata": {
    "colab_type": "text",
    "id": "zL2f74Iv4vF4"
   },
   "source": [
    "## Function 5: Number of Tweets per Day\n",
    "\n",
    "Write a function which calculates the number of tweets that were posted per day. \n",
    "\n",
    "**Function Specifications:**\n",
    "- It should take a pandas dataframe as input.\n",
    "- It should return a new dataframe, grouped by day, with the number of tweets for that day.\n",
    "- The index of the new dataframe should be named `Date`, and the column of the new dataframe should be `'Tweets'`, corresponding to the date and number of tweets, respectively.\n",
    "- The date should be formated as `yyyy-mm-dd`, and should be a datetime object. **Hint:** look up `pd.to_datetime` to see how to do this."
   ]
  },
  {
   "cell_type": "code",
   "execution_count": 13,
   "metadata": {
    "colab": {},
    "colab_type": "code",
    "id": "2OgGwo22vogg"
   },
   "outputs": [],
   "source": [
    "### START FUNCTION\n",
    "def number_of_tweets_per_day(df):\n",
    "    # your code here\n",
    "    return\n",
    "\n",
    "### END FUNCTION"
   ]
  },
  {
   "cell_type": "code",
   "execution_count": 14,
   "metadata": {},
   "outputs": [],
   "source": [
    "number_of_tweets_per_day(twitter_df.copy())"
   ]
  },
  {
   "cell_type": "markdown",
   "metadata": {
    "colab_type": "text",
    "id": "sRgKYS5r41CY"
   },
   "source": [
    "_**Expected Output:**_\n",
    "\n",
    "```python\n",
    "\n",
    "number_of_tweets_per_day(twitter_df.copy())\n",
    "\n",
    "```\n",
    "\n",
    "> <table class=\"dataframe\" border=\"1\">\n",
    "  <thead>\n",
    "    <tr style=\"text-align: right;\">\n",
    "      <th></th>\n",
    "      <th>Tweets</th>\n",
    "    </tr>\n",
    "    <tr>\n",
    "      <th>Date</th>\n",
    "      <th></th>\n",
    "    </tr>\n",
    "  </thead>\n",
    "  <tbody>\n",
    "    <tr>\n",
    "      <th>2019-11-20</th>\n",
    "      <td>18</td>\n",
    "    </tr>\n",
    "    <tr>\n",
    "      <th>2019-11-21</th>\n",
    "      <td>11</td>\n",
    "    </tr>\n",
    "    <tr>\n",
    "      <th>2019-11-22</th>\n",
    "      <td>25</td>\n",
    "    </tr>\n",
    "    <tr>\n",
    "      <th>2019-11-23</th>\n",
    "      <td>19</td>\n",
    "    </tr>\n",
    "    <tr>\n",
    "      <th>2019-11-24</th>\n",
    "      <td>14</td>\n",
    "    </tr>\n",
    "    <tr>\n",
    "      <th>2019-11-25</th>\n",
    "      <td>20</td>\n",
    "    </tr>\n",
    "    <tr>\n",
    "      <th>2019-11-26</th>\n",
    "      <td>32</td>\n",
    "    </tr>\n",
    "    <tr>\n",
    "      <th>2019-11-27</th>\n",
    "      <td>13</td>\n",
    "    </tr>\n",
    "    <tr>\n",
    "      <th>2019-11-28</th>\n",
    "      <td>32</td>\n",
    "    </tr>\n",
    "    <tr>\n",
    "      <th>2019-11-29</th>\n",
    "      <td>16</td>\n",
    "    </tr>\n",
    "  </tbody>\n",
    "</table>"
   ]
  },
  {
   "cell_type": "markdown",
   "metadata": {
    "colab_type": "text",
    "id": "BbDANpgZ46qz"
   },
   "source": [
    "# Function 6: Word Splitter\n",
    "\n",
    "Write a function which splits the sentences in a dataframe's column into a list of the separate words. The created lists should be placed in a column named `'Split Tweets'` in the original dataframe. This is also known as [tokenization](https://www.geeksforgeeks.org/nlp-how-tokenizing-text-sentence-words-works/).\n",
    "\n",
    "**Function Specifications:**\n",
    "- It should take a pandas dataframe as an input.\n",
    "- The dataframe should contain a column, named `'Tweets'`.\n",
    "- The function should split the sentences in the `'Tweets'` into a list of seperate words, and place the result into a new column named `'Split Tweets'`. The resulting words must all be lowercase!\n",
    "- The function should modify the input dataframe directly.\n",
    "- The function should return the modified dataframe."
   ]
  },
  {
   "cell_type": "code",
   "execution_count": 15,
   "metadata": {
    "colab": {},
    "colab_type": "code",
    "id": "EYWIHnwy7_0A"
   },
   "outputs": [],
   "source": [
    "### START FUNCTION\n",
    "def word_splitter(df):\n",
    "    # your code here\n",
    "    return\n",
    "\n",
    "### END FUNCTION"
   ]
  },
  {
   "cell_type": "code",
   "execution_count": 16,
   "metadata": {},
   "outputs": [],
   "source": [
    "word_splitter(twitter_df.copy())"
   ]
  },
  {
   "cell_type": "markdown",
   "metadata": {
    "colab_type": "text",
    "id": "_QtthCC44_6p"
   },
   "source": [
    "_**Expected Output**_:\n",
    "\n",
    "```python\n",
    "\n",
    "word_splitter(twitter_df.copy()) \n",
    "\n",
    "```\n",
    "\n",
    "> <table class=\"dataframe\" border=\"1\">\n",
    "  <thead>\n",
    "    <tr style=\"text-align: right;\">\n",
    "      <th></th>\n",
    "      <th>Tweets</th>\n",
    "      <th>Date</th>\n",
    "      <th>Split Tweets</th>\n",
    "    </tr>\n",
    "  </thead>\n",
    "  <tbody>\n",
    "    <tr>\n",
    "      <th>0</th>\n",
    "      <td>@BongaDlulane Please send an email to mediades...</td>\n",
    "      <td>2019-11-29 12:50:54</td>\n",
    "      <td>[@bongadlulane, please, send, an, email, to, m...</td>\n",
    "    </tr>\n",
    "    <tr>\n",
    "      <th>1</th>\n",
    "      <td>@saucy_mamiie Pls log a call on 0860037566</td>\n",
    "      <td>2019-11-29 12:46:53</td>\n",
    "      <td>[@saucy_mamiie, pls, log, a, call, on, 0860037...</td>\n",
    "    </tr>\n",
    "    <tr>\n",
    "      <th>2</th>\n",
    "      <td>@BongaDlulane Query escalated to media desk.</td>\n",
    "      <td>2019-11-29 12:46:10</td>\n",
    "      <td>[@bongadlulane, query, escalated, to, media, d...</td>\n",
    "    </tr>\n",
    "    <tr>\n",
    "      <th>3</th>\n",
    "      <td>Before leaving the office this afternoon, head...</td>\n",
    "      <td>2019-11-29 12:33:36</td>\n",
    "      <td>[before, leaving, the, office, this, afternoon...</td>\n",
    "    </tr>\n",
    "    <tr>\n",
    "      <th>4</th>\n",
    "      <td>#ESKOMFREESTATE #MEDIASTATEMENT : ESKOM SUSPEN...</td>\n",
    "      <td>2019-11-29 12:17:43</td>\n",
    "      <td>[#eskomfreestate, #mediastatement, :, eskom, s...</td>\n",
    "    </tr>\n",
    "    <tr>\n",
    "      <th>...</th>\n",
    "      <td>...</td>\n",
    "      <td>...</td>\n",
    "      <td>...</td>\n",
    "    </tr>\n",
    "    <tr>\n",
    "      <th>195</th>\n",
    "      <td>Eskom's Visitors Centresâ€™ facilities include i...</td>\n",
    "      <td>2019-11-20 10:29:07</td>\n",
    "      <td>[eskom's, visitors, centresâ€™, facilities, incl...</td>\n",
    "    </tr>\n",
    "    <tr>\n",
    "      <th>196</th>\n",
    "      <td>#Eskom connected 400 houses and in the process...</td>\n",
    "      <td>2019-11-20 10:25:20</td>\n",
    "      <td>[#eskom, connected, 400, houses, and, in, the,...</td>\n",
    "    </tr>\n",
    "    <tr>\n",
    "      <th>197</th>\n",
    "      <td>@ArthurGodbeer Is the power restored as yet?</td>\n",
    "      <td>2019-11-20 10:07:59</td>\n",
    "      <td>[@arthurgodbeer, is, the, power, restored, as,...</td>\n",
    "    </tr>\n",
    "    <tr>\n",
    "      <th>198</th>\n",
    "      <td>@MuthambiPaulina @SABCNewsOnline @IOL @eNCA @e...</td>\n",
    "      <td>2019-11-20 10:07:41</td>\n",
    "      <td>[@muthambipaulina, @sabcnewsonline, @iol, @enc...</td>\n",
    "    </tr>\n",
    "    <tr>\n",
    "      <th>199</th>\n",
    "      <td>RT @GP_DHS: The @GautengProvince made a commit...</td>\n",
    "      <td>2019-11-20 10:00:09</td>\n",
    "      <td>[rt, @gp_dhs:, the, @gautengprovince, made, a,...</td>\n",
    "    </tr>\n",
    "  </tbody>\n",
    "</table>"
   ]
  },
  {
   "cell_type": "markdown",
   "metadata": {
    "colab_type": "text",
    "id": "r-L3kWZh5DvM"
   },
   "source": [
    "# Function 7: Stop Words\n",
    "\n",
    "Write a function which removes english stop words from a tweet.\n",
    "\n",
    "**Function Specifications:**\n",
    "- It should take a pandas dataframe as input.\n",
    "- Should tokenise the sentences according to the definition in function 6. Note that function 6 **cannot be called within this function**.\n",
    "- Should remove all stop words in the tokenised list. The stopwords are defined in the `stop_words_dict` variable defined at the top of this notebook.\n",
    "- The resulting tokenised list should be placed in a column named `\"Without Stop Words\"`.\n",
    "- The function should modify the input dataframe.\n",
    "- The function should return the modified dataframe.\n"
   ]
  },
  {
   "cell_type": "code",
   "execution_count": 17,
   "metadata": {
    "colab": {},
    "colab_type": "code",
    "id": "qCZnUoU64mVj"
   },
   "outputs": [],
   "source": [
    "### START FUNCTION\n",
    "def stop_words_remover(df):\n",
    "    # your code here\n",
    "    return\n",
    "\n",
    "### END FUNCTION"
   ]
  },
  {
   "cell_type": "code",
   "execution_count": 18,
   "metadata": {},
   "outputs": [],
   "source": [
    "stop_words_remover(twitter_df.copy())"
   ]
  },
  {
   "cell_type": "markdown",
   "metadata": {
    "colab_type": "text",
    "id": "DGzO-tYv5O0N"
   },
   "source": [
    "_**Expected Output**_:\n",
    "\n",
    "Specific rows:\n",
    "\n",
    "```python\n",
    "stop_words_remover(twitter_df.copy()).loc[0, \"Without Stop Words\"] == ['@bongadlulane', 'send', 'email', 'mediadesk@eskom.co.za']\n",
    "stop_words_remover(twitter_df.copy()).loc[100, \"Without Stop Words\"] == ['#eskomnorthwest', '#mediastatement', ':', 'notice', 'supply', 'interruption', 'lichtenburg', 'area', 'https://t.co/7hfwvxllit']\n",
    "```\n",
    "\n",
    "Whole table:\n",
    "```python\n",
    "stop_words_remover(twitter_df.copy())\n",
    "```\n",
    "\n",
    "> <table class=\"dataframe\" border=\"1\">\n",
    "  <thead>\n",
    "    <tr style=\"text-align: right;\">\n",
    "      <th></th>\n",
    "      <th>Tweets</th>\n",
    "      <th>Date</th>\n",
    "      <th>Without Stop Words</th>\n",
    "    </tr>\n",
    "  </thead>\n",
    "  <tbody>\n",
    "    <tr>\n",
    "      <th>0</th>\n",
    "      <td>@BongaDlulane Please send an email to mediades...</td>\n",
    "      <td>2019-11-29 12:50:54</td>\n",
    "      <td>[@bongadlulane, send, email, mediadesk@eskom.c...</td>\n",
    "    </tr>\n",
    "    <tr>\n",
    "      <th>1</th>\n",
    "      <td>@saucy_mamiie Pls log a call on 0860037566</td>\n",
    "      <td>2019-11-29 12:46:53</td>\n",
    "      <td>[@saucy_mamiie, pls, log, 0860037566]</td>\n",
    "    </tr>\n",
    "    <tr>\n",
    "      <th>2</th>\n",
    "      <td>@BongaDlulane Query escalated to media desk.</td>\n",
    "      <td>2019-11-29 12:46:10</td>\n",
    "      <td>[@bongadlulane, query, escalated, media, desk.]</td>\n",
    "    </tr>\n",
    "    <tr>\n",
    "      <th>3</th>\n",
    "      <td>Before leaving the office this afternoon, head...</td>\n",
    "      <td>2019-11-29 12:33:36</td>\n",
    "      <td>[leaving, office, afternoon,, heading, weekend...</td>\n",
    "    </tr>\n",
    "    <tr>\n",
    "      <th>4</th>\n",
    "      <td>#ESKOMFREESTATE #MEDIASTATEMENT : ESKOM SUSPEN...</td>\n",
    "      <td>2019-11-29 12:17:43</td>\n",
    "      <td>[#eskomfreestate, #mediastatement, :, eskom, s...</td>\n",
    "    </tr>\n",
    "    <tr>\n",
    "      <th>...</th>\n",
    "      <td>...</td>\n",
    "      <td>...</td>\n",
    "      <td>...</td>\n",
    "    </tr>\n",
    "    <tr>\n",
    "      <th>195</th>\n",
    "      <td>Eskom's Visitors Centresâ€™ facilities include i...</td>\n",
    "      <td>2019-11-20 10:29:07</td>\n",
    "      <td>[eskom's, visitors, centresâ€™, facilities, incl...</td>\n",
    "    </tr>\n",
    "    <tr>\n",
    "      <th>196</th>\n",
    "      <td>#Eskom connected 400 houses and in the process...</td>\n",
    "      <td>2019-11-20 10:25:20</td>\n",
    "      <td>[#eskom, connected, 400, houses, process, conn...</td>\n",
    "    </tr>\n",
    "    <tr>\n",
    "      <th>197</th>\n",
    "      <td>@ArthurGodbeer Is the power restored as yet?</td>\n",
    "      <td>2019-11-20 10:07:59</td>\n",
    "      <td>[@arthurgodbeer, power, restored, yet?]</td>\n",
    "    </tr>\n",
    "    <tr>\n",
    "      <th>198</th>\n",
    "      <td>@MuthambiPaulina @SABCNewsOnline @IOL @eNCA @e...</td>\n",
    "      <td>2019-11-20 10:07:41</td>\n",
    "      <td>[@muthambipaulina, @sabcnewsonline, @iol, @enc...</td>\n",
    "    </tr>\n",
    "    <tr>\n",
    "      <th>199</th>\n",
    "      <td>RT @GP_DHS: The @GautengProvince made a commit...</td>\n",
    "      <td>2019-11-20 10:00:09</td>\n",
    "      <td>[rt, @gp_dhs:, @gautengprovince, commitment, e...</td>\n",
    "    </tr>\n",
    "  </tbody>\n",
    "</table>"
   ]
  },
  {
   "cell_type": "code",
   "execution_count": 3,
   "metadata": {},
   "outputs": [
    {
     "data": {
      "image/png": "[encoded data removed]",
      "text/plain": [
       "<Figure size 432x288 with 1 Axes>"
      ]
     },
     "metadata": {
      "needs_background": "light"
     },
     "output_type": "display_data"
    }
   ],
   "source": [
    "import matplotlib.pyplot as plt\n",
    "run_times = [2, 4, 6, 8]\n",
    "speed_avg = [5.10, 6.0, 6.15, 7.2]\n",
    "plt.plot(run_times, speed_avg)\n",
    "plt.show()"
   ]
  },
  {
   "cell_type": "code",
   "execution_count": null,
   "metadata": {},
   "outputs": [],
   "source": []
  }
 ],
 "metadata": {
  "colab": {
   "name": "Analyse_Functions_Model.ipynb",
   "provenance": []
  },
  "kernelspec": {
   "display_name": "Python 3",
   "language": "python",
   "name": "python3"
  },
  "language_info": {
   "codemirror_mode": {
    "name": "ipython",
    "version": 3
   },
   "file_extension": ".py",
   "mimetype": "text/x-python",
   "name": "python",
   "nbconvert_exporter": "python",
   "pygments_lexer": "ipython3",
   "version": "3.7.1"
  }
 },
 "nbformat": 4,
 "nbformat_minor": 1
}
